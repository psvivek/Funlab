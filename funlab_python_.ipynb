{
 "cells": [
  {
   "cell_type": "markdown",
   "metadata": {},
   "source": [
    "## Python-Challenge"
   ]
  },
  {
   "cell_type": "markdown",
   "metadata": {},
   "source": [
    "### PROBLEM STATEMENT: \n",
    "Given a string,  define a function that find the least repeating character in that string using Python. \n",
    "Also print out the count of each character. If there is multiple least repeating characters, print out any of one of them. "
   ]
  },
  {
   "cell_type": "markdown",
   "metadata": {},
   "source": [
    "### Solution:"
   ]
  },
  {
   "cell_type": "code",
   "execution_count": 15,
   "metadata": {},
   "outputs": [
    {
     "name": "stdout",
     "output_type": "stream",
     "text": [
      "{'a': 3, 'b': 3, 'c': 3, 'd': 3, 'e': 3, 'f': 3, 'g': 1}\n",
      "g\n"
     ]
    }
   ],
   "source": [
    "# Function Definition\n",
    "def least_repeating_character(string):\n",
    "    \"\"\"\n",
    "    Find the least repeating character in a given string and print its count along with counts of all characters.\n",
    "\n",
    "    Args:\n",
    "    string (str): Input string.\n",
    "\n",
    "    Returns:\n",
    "    None: Prints the counts of each character and the least repeating character.\n",
    "    \"\"\"\n",
    "    # Create a dictionary to count occurrences of each character\n",
    "    char_count = {}\n",
    "    for char in string:\n",
    "        if char in char_count:\n",
    "            char_count[char] += 1\n",
    "        else:\n",
    "            char_count[char] = 1\n",
    "    \n",
    "    # Find the minimum count\n",
    "    min_count = None\n",
    "    least_repeating_char = None\n",
    "    for char, count in char_count.items():\n",
    "        if min_count is None or count < min_count:\n",
    "            min_count = count\n",
    "            least_repeating_char = char\n",
    "    \n",
    "    # Print out the count of each character\n",
    "    print(char_count)\n",
    "    \n",
    "    # Print out any one of the least repeating characters\n",
    "    print(least_repeating_char)\n",
    "\n",
    "# Sample input\n",
    "string = \"aaabbbcccdddeeefffg\"\n",
    "\n",
    "# Call the function\n",
    "least_repeating_character(string)\n"
   ]
  }
 ],
 "metadata": {
  "kernelspec": {
   "display_name": "Python 3",
   "language": "python",
   "name": "python3"
  },
  "language_info": {
   "codemirror_mode": {
    "name": "ipython",
    "version": 3
   },
   "file_extension": ".py",
   "mimetype": "text/x-python",
   "name": "python",
   "nbconvert_exporter": "python",
   "pygments_lexer": "ipython3",
   "version": "3.11.6"
  }
 },
 "nbformat": 4,
 "nbformat_minor": 2
}
