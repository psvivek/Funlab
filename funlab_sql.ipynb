{
 "cells": [
  {
   "cell_type": "markdown",
   "metadata": {},
   "source": [
    "## SQL-Challenge"
   ]
  },
  {
   "cell_type": "markdown",
   "metadata": {},
   "source": [
    "### PROBLEM STATEMENT: \n",
    "Given INPUT table provides login and logoff details of a Funlab web user.\n",
    "\n",
    "Provide SQL query to generate the OUTPUT table to represents the different periods (in mins) when user was logged in."
   ]
  },
  {
   "cell_type": "markdown",
   "metadata": {},
   "source": [
    "### Solution:\n",
    "\n",
    "``` sql\n",
    "-- Common Table Expression to assign row numbers to each record in the input table\n",
    "WITH RankedLogins AS (\n",
    "    SELECT \n",
    "        TIMES,\n",
    "        STATUS,\n",
    "        ROW_NUMBER() OVER (ORDER BY TIMES) AS rn\n",
    "    FROM \n",
    "        login_details\n",
    "), \n",
    "-- CTE to pair logon and logoff events\n",
    "PairedLogins AS (\n",
    "    SELECT \n",
    "        l1.TIMES AS LOG_ON,\n",
    "        MIN(l2.TIMES) AS LOG_OFF\n",
    "    FROM \n",
    "        RankedLogins l1\n",
    "    LEFT JOIN \n",
    "        RankedLogins l2 ON l1.rn < l2.rn AND l2.STATUS = 'off'\n",
    "    WHERE \n",
    "        l1.STATUS = 'on'\n",
    "        AND (l2.TIMES IS NULL OR l2.TIMES > l1.TIMES)\n",
    "    GROUP BY \n",
    "        l1.TIMES\n",
    "), \n",
    "-- CTE to order logon and logoff pairs by LOG_ON time and assign row numbers\n",
    "OrderedPairedLogins AS (\n",
    "    SELECT \n",
    "        LOG_ON,\n",
    "        LOG_OFF,\n",
    "        ROW_NUMBER() OVER (ORDER BY LOG_ON) AS rn\n",
    "    FROM \n",
    "        PairedLogins\n",
    ")\n",
    "-- Final query to calculate the duration between logon and logoff times\n",
    "SELECT \n",
    "    opl.LOG_ON,\n",
    "    opl.LOG_OFF,\n",
    "    DATEDIFF(MINUTE, opl.LOG_ON, opl.LOG_OFF) AS DURATION\n",
    "FROM \n",
    "    OrderedPairedLogins opl\n",
    "-- Join condition to ensure that the LOG_ON time is greater than the previous LOG_OFF time\n",
    "LEFT JOIN \n",
    "    OrderedPairedLogins opl_prev ON opl.rn = opl_prev.rn + 1\n",
    "WHERE \n",
    "    opl_prev.LOG_OFF IS NULL OR opl.LOG_ON > opl_prev.LOG_OFF;\n",
    "\n",
    "\n",
    "```"
   ]
  },
  {
   "cell_type": "markdown",
   "metadata": {},
   "source": [
    "### Explanation:\n",
    "\n",
    "##### The query uses Common Table Expressions (CTEs) for better readability and to organize the logic into logical steps.\n",
    "##### Each CTE is commented to explain its purpose.\n",
    "##### The final query calculates the duration between logon and logoff times and ensures that the next LOG_ON time is greater than the previous LOG_OFF time."
   ]
  }
 ],
 "metadata": {
  "kernelspec": {
   "display_name": "Python 3",
   "language": "python",
   "name": "python3"
  },
  "language_info": {
   "codemirror_mode": {
    "name": "ipython",
    "version": 3
   },
   "file_extension": ".py",
   "mimetype": "text/x-python",
   "name": "python",
   "nbconvert_exporter": "python",
   "pygments_lexer": "ipython3",
   "version": "3.11.6"
  }
 },
 "nbformat": 4,
 "nbformat_minor": 2
}
